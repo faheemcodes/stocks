{
 "cells": [
  {
   "cell_type": "markdown",
   "metadata": {},
   "source": [
    "### Importing Modules"
   ]
  },
  {
   "cell_type": "code",
   "execution_count": 1,
   "metadata": {},
   "outputs": [],
   "source": [
    "import gspread\n",
    "from oauth2client.service_account import ServiceAccountCredentials\n",
    "from pprint import pprint\n",
    "import yfinance as yf"
   ]
  },
  {
   "cell_type": "markdown",
   "metadata": {},
   "source": [
    "### Setting up the credentials for google sheets api locally and calling it to get access to the sheets"
   ]
  },
  {
   "cell_type": "code",
   "execution_count": null,
   "metadata": {},
   "outputs": [],
   "source": [
    "scope = [\"https://spreadsheets.google.com/feeds\",'https://www.googleapis.com/auth/spreadsheets',\"https://www.googleapis.com/auth/drive.file\",\"https://www.googleapis.com/auth/drive\"]\n",
    "path = r\"XXXXXX\" # Replace XXXXX to the place where the google sheets api (creds.json) is kept \n",
    "creds = ServiceAccountCredentials.from_json_keyfile_name(path + \"creds.json\",  scope, token_uri = \"https://oauth2.googleapis.com/token\")\n",
    "client = gspread.authorize(creds)"
   ]
  },
  {
   "cell_type": "markdown",
   "metadata": {},
   "source": [
    "### Accessing and updating the sheets with data of each stock from yahoo finance"
   ]
  },
  {
   "cell_type": "code",
   "execution_count": null,
   "metadata": {},
   "outputs": [],
   "source": [
    "sheet = client.open(r'XXXXXX') # Opening the google sheet. Replace XXXXXX with the google sheet name\n",
    "sheet1 = sheet.worksheet(r\"XXXXXX\") # Calling the worksheet. Replace XXXXXX with the name of the worksheet in the google sheet\n",
    "\n",
    "maxlen = 300  # Max number of rows to iterate through\n",
    "\n",
    "for i in range(0,maxlen):  # Looping through all the rows in the work sheet\n",
    "    t = sheet1.cell(i+2,4).value  # This is the cell in 4th column where the ticker for the stock is located.\n",
    "    if not len(t)==0: # If the ticker is non-null, then attempt the following\n",
    "        try:\n",
    "            s = yf.Ticker(t) # Calling the yahoo finance object using the ticker obtained in the above step\n",
    "            sector = s.info.get('sector') # Obtain the sector of the stock\n",
    "            industry = s.info.get('industry') # Obtain the industry of the stock\n",
    "            sheet1.update_cell(i+2,11,sector) # Update the 11th column in the google sheet with the sector name\n",
    "            sheet1.update_cell(i+2,12,industry) # Update the 12th column in the google sheet with the industry name\n",
    "            df = s.history(period=\"2y\") # Create the dataframe of all the data for the last two years of data\n",
    "            p = df.tail(1)['Close'][0] # Get the most current stock price by calling the last row of the dataframe\n",
    "            sheet1.update_cell(i+2,6, p) # Update the 6th column in the google sheet with the current price\n",
    "            q = list(df.loc['2020-02-14':'2020-02-14']['Close'])[0] # Get the stock price on 14th Feb 2020\n",
    "            sheet1.update_cell(i+2,7, q) # Update the 7th column in the google sheet with the price from 14th Feb 2020\n",
    "            r = list(df.loc['2019-09-16':'2019-09-16']['Close'])[0] # Get the stock price on 16th sep 2019\n",
    "            sheet1.update_cell(i+2,9, r) # Update the 9th column in the google sheet with the price from 16th Sep 2019\n",
    "        except:\n",
    "            pass\n",
    "    else:\n",
    "        pass"
   ]
  }
 ],
 "metadata": {
  "kernelspec": {
   "display_name": "Python 3",
   "language": "python",
   "name": "python3"
  },
  "language_info": {
   "codemirror_mode": {
    "name": "ipython",
    "version": 3
   },
   "file_extension": ".py",
   "mimetype": "text/x-python",
   "name": "python",
   "nbconvert_exporter": "python",
   "pygments_lexer": "ipython3",
   "version": "3.7.3"
  }
 },
 "nbformat": 4,
 "nbformat_minor": 4
}
