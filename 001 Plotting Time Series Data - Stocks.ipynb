{
 "cells": [
  {
   "cell_type": "markdown",
   "metadata": {},
   "source": [
    "### Importing modules"
   ]
  },
  {
   "cell_type": "code",
   "execution_count": 2,
   "metadata": {},
   "outputs": [],
   "source": [
    "# Importing modules for downloading and processing data\n",
    "import pandas_datareader as web\n",
    "import pandas as pd\n",
    "import random\n",
    "\n",
    "# Importing modules for plotting (using the bokeh module)\n",
    "from bokeh.plotting import figure, show, output_file, output_notebook\n",
    "from bokeh.palettes import Spectral11, colorblind, Inferno, BuGn, brewer\n",
    "from bokeh.models import HoverTool, value, LabelSet, Legend, ColumnDataSource,LinearColorMapper,BasicTicker, PrintfTickFormatter, ColorBar\n",
    "\n",
    "# Ignoring the warnings\n",
    "import sys\n",
    "import warnings\n",
    "if not sys.warnoptions:\n",
    "    warnings.simplefilter(\"ignore\")"
   ]
  },
  {
   "cell_type": "markdown",
   "metadata": {},
   "source": [
    "### Inputs"
   ]
  },
  {
   "cell_type": "code",
   "execution_count": 3,
   "metadata": {},
   "outputs": [],
   "source": [
    "tickers = ['AAPL','MSFT','GOOG'] # Tickers of the stocks that need to be plotted.\n",
    "start = '2000-01-01' # Start date\n",
    "end = '2020-03-30' # End date"
   ]
  },
  {
   "cell_type": "markdown",
   "metadata": {},
   "source": [
    "### Downloading and processing data"
   ]
  },
  {
   "cell_type": "code",
   "execution_count": 4,
   "metadata": {},
   "outputs": [],
   "source": [
    "df = web.DataReader(tickers, data_source='yahoo', start=start, end=end)['Close'] # Downloading data from yahoo finance from inputs\n",
    "\n",
    "df = df.dropna() # Removing rows with missing data to ensure concurrent time series datasets\n",
    "\n",
    "for col in df.columns:\n",
    "    df[col] = (df[col]-df[col].min())/(df[col].max()-df[col].min())"
   ]
  },
  {
   "cell_type": "markdown",
   "metadata": {},
   "source": [
    "### Plotting the data"
   ]
  },
  {
   "cell_type": "code",
   "execution_count": 6,
   "metadata": {},
   "outputs": [],
   "source": [
    "# Defining bokeh tools that are used to explore the plot in detail\n",
    "tools = 'crosshair,save,pan,box_zoom,reset,hover,wheel_zoom'\n",
    "\n",
    "# Creating the random color for each line in the plot randomly \n",
    "colors = [(random.randrange(0, 255), random.randrange(0, 255), random.randrange(0, 255)) for i in range(len(df.columns))]\n",
    "\n",
    "# Defining the plot canvas and parameters\n",
    "plot = figure(plot_width=1600, plot_height=400, title=\"Title\", y_axis_type=\"linear\", x_axis_type='datetime', tools=tools)\n",
    "plot.legend.location = \"top_left\"\n",
    "plot.xaxis.axis_label = 'Year'\n",
    "plot.yaxis.axis_label = 'Normalised Stock'\n",
    "\n",
    "# Plotting data of each of the stocks based on the inputs and plot parameters\n",
    "for i in range(len(df.columns)):\n",
    "    plot.line(x=df.index, y=df[df.columns[i]], legend= df.columns[i], line_color=colors[i], line_width = 3)                               \n",
    "\n",
    "# Creating the plot output\n",
    "output_file(\"Stocks_plot.html\", title=\"Stocks\")\n",
    "show(plot)"
   ]
  }
 ],
 "metadata": {
  "kernelspec": {
   "display_name": "Python 3",
   "language": "python",
   "name": "python3"
  },
  "language_info": {
   "codemirror_mode": {
    "name": "ipython",
    "version": 3
   },
   "file_extension": ".py",
   "mimetype": "text/x-python",
   "name": "python",
   "nbconvert_exporter": "python",
   "pygments_lexer": "ipython3",
   "version": "3.7.3"
  }
 },
 "nbformat": 4,
 "nbformat_minor": 4
}
